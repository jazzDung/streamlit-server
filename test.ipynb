{
 "cells": [
  {
   "cell_type": "code",
   "execution_count": 1,
   "outputs": [
    {
     "name": "stderr",
     "output_type": "stream",
     "text": [
      "2023-12-15 15:45:34.850 \n",
      "  \u001B[33m\u001B[1mWarning:\u001B[0m to view this Streamlit app on a browser, run it with the following\n",
      "  command:\n",
      "\n",
      "    streamlit run /Users/jazzdung/projects/streamlit-server/.venv/lib/python3.9/site-packages/ipykernel_launcher.py [ARGUMENTS]\n",
      "2023-12-15 15:45:34.852 No runtime found, using MemoryCacheStorageManager\n",
      "2023-12-15 15:45:34.857 No runtime found, using MemoryCacheStorageManager\n",
      "2023-12-15 15:45:34.860 No runtime found, using MemoryCacheStorageManager\n",
      "2023-12-15 15:45:34.864 No runtime found, using MemoryCacheStorageManager\n",
      "2023-12-15 15:45:38.078 No runtime found, using MemoryCacheStorageManager\n",
      "2023-12-15 15:45:38.335 No runtime found, using MemoryCacheStorageManager\n",
      "2023-12-15 15:45:38.700 No runtime found, using MemoryCacheStorageManager\n",
      "2023-12-15 15:45:39.825 No runtime found, using MemoryCacheStorageManager\n"
     ]
    }
   ],
   "source": [
    "from datetime import datetime, timedelta, timezone\n",
    "from sqlalchemy import create_engine\n",
    "from common.utils import *\n",
    "from database.utils import *\n",
    "from pages.market_overview_light import *\n",
    "\n",
    "from datetime import datetime"
   ],
   "metadata": {
    "collapsed": false,
    "ExecuteTime": {
     "end_time": "2023-12-15T08:45:51.069497Z",
     "start_time": "2023-12-15T08:45:31.179809Z"
    }
   },
   "id": "36165b12fc85b8d6"
  },
  {
   "cell_type": "code",
   "execution_count": 4,
   "outputs": [
    {
     "data": {
      "text/plain": "[338.0, 445.0, 0.20954742715437075, 0.2758834469931804]"
     },
     "execution_count": 4,
     "metadata": {},
     "output_type": "execute_result"
    }
   ],
   "source": [
    "latest_price_metric = get_latest_record(schema='public', table='price_metric_all_resolution', engine=dsai_engine)\n",
    "\n",
    "latest_price_metric.query('name == \"market\"')[[\n",
    "    'price_increased_sum',\n",
    "    'price_decreased_sum',\n",
    "    'price_increased_mean',\n",
    "    'price_decreased_mean',\n",
    "]].values.flatten().tolist()"
   ],
   "metadata": {
    "collapsed": false,
    "ExecuteTime": {
     "end_time": "2023-12-15T08:46:23.783225Z",
     "start_time": "2023-12-15T08:46:23.602836Z"
    }
   },
   "id": "1deee77f1f03e53e"
  },
  {
   "cell_type": "code",
   "execution_count": 1,
   "outputs": [
    {
     "data": {
      "text/plain": "True"
     },
     "execution_count": 1,
     "metadata": {},
     "output_type": "execute_result"
    }
   ],
   "source": [
    "timestamp = datetime(2023, 10, 16)\n",
    "sql = f\"\"\"\n",
    "    select\n",
    "        *\n",
    "    from public.liquidity_all_resolution\n",
    "    where indexed_timestamp_ > '{timestamp.strftime('%Y-%m-%d')}'::date - interval '5 days'\n",
    "    and indexed_timestamp_::date <= '{timestamp.strftime('%Y-%m-%d')}'::date\n",
    "    order by indexed_timestamp_;\n",
    "    \"\"\"\n",
    "df = pd.read_sql_query(\n",
    "    sql=sql,\n",
    "    con=dsai_engine\n",
    ")\n",
    "\n",
    "df[\"indexed_timestamp_\"] = pd.to_datetime(df[\"indexed_timestamp_\"])\n",
    "df = df[df['resolution'] == 'market'] \n",
    "df['minute'] = df['indexed_timestamp_'].apply(lambda x: x.minute)\n",
    "df['time'] = df['indexed_timestamp_'].dt.time\n",
    "df['time_str'] = df['indexed_timestamp_'].dt.strftime('%H:%M')\n",
    "\n",
    "df = df[df['minute'].isin([0, 15, 30, 45])]\n",
    "df = df.sort_values(by='indexed_timestamp_', ascending=False)\n",
    "\n",
    "today = df[df['indexed_timestamp_'].dt.date == timestamp.date()]\n",
    "\n",
    "five_day_ago = df[df['indexed_timestamp_'].dt.date < timestamp.date()]\n",
    "five_day_ago = five_day_ago.groupby('time').agg(\n",
    "    max_liquidity=('liquidity', 'max'), \n",
    "    min_liquidity=('liquidity', 'min')\n",
    ")\n",
    "\n",
    "five_day_ago.reset_index(inplace=True)\n",
    "today.reset_index(inplace=True)"
   ],
   "metadata": {
    "collapsed": false,
    "ExecuteTime": {
     "end_time": "2023-12-14T03:01:27.483112Z",
     "start_time": "2023-12-14T03:01:27.450993Z"
    }
   },
   "id": "fa05b4d53cd4a469"
  },
  {
   "cell_type": "code",
   "execution_count": 144,
   "outputs": [
    {
     "data": {
      "text/plain": "    index  indexed_timestamp_     liquidity        name resolution  \\\n0   10500 2023-10-16 08:45:00  28883.328454  Thị trường     market   \n1   10380 2023-10-16 08:00:00  28883.032202  Thị trường     market   \n2   10200 2023-10-16 07:45:00  27597.979855  Thị trường     market   \n3   10020 2023-10-16 07:30:00  27551.889950  Thị trường     market   \n4    9840 2023-10-16 07:15:00  24929.323811  Thị trường     market   \n5    9664 2023-10-16 07:00:00  23292.854002  Thị trường     market   \n6    9490 2023-10-16 06:45:00  22359.188434  Thị trường     market   \n7    9307 2023-10-16 06:30:00  21551.343798  Thị trường     market   \n8    9136 2023-10-16 06:15:00  20428.441790  Thị trường     market   \n9    8881 2023-10-16 04:30:00  19317.479098  Thị trường     market   \n10   8701 2023-10-16 04:15:00  18746.141942  Thị trường     market   \n11   8521 2023-10-16 04:00:00  18274.686712  Thị trường     market   \n12   8341 2023-10-16 03:45:00  17749.308452  Thị trường     market   \n13   8161 2023-10-16 03:30:00  17248.812597  Thị trường     market   \n14   7981 2023-10-16 03:15:00  16224.075339  Thị trường     market   \n15   7807 2023-10-16 03:00:00  15404.126256  Thị trường     market   \n16   7623 2023-10-16 02:45:00  14471.600637  Thị trường     market   \n17   7447 2023-10-16 02:30:00    401.817370  Thị trường     market   \n18   7263 2023-10-16 02:15:00    165.374520  Thị trường     market   \n\n   liquidity_1d_ago liquidity_avg_7d_ago liquidity_vs_1d_ago  \\\n0              None                 None                None   \n1              None                 None                None   \n2              None                 None                None   \n3              None                 None                None   \n4              None                 None                None   \n5              None                 None                None   \n6              None                 None                None   \n7              None                 None                None   \n8              None                 None                None   \n9              None                 None                None   \n10             None                 None                None   \n11             None                 None                None   \n12             None                 None                None   \n13             None                 None                None   \n14             None                 None                None   \n15             None                 None                None   \n16             None                 None                None   \n17             None                 None                None   \n18             None                 None                None   \n\n   liquidity_vs_avg_7d_ago  minute      time time_str  \n0                     None      45  08:45:00    08:45  \n1                     None       0  08:00:00    08:00  \n2                     None      45  07:45:00    07:45  \n3                     None      30  07:30:00    07:30  \n4                     None      15  07:15:00    07:15  \n5                     None       0  07:00:00    07:00  \n6                     None      45  06:45:00    06:45  \n7                     None      30  06:30:00    06:30  \n8                     None      15  06:15:00    06:15  \n9                     None      30  04:30:00    04:30  \n10                    None      15  04:15:00    04:15  \n11                    None       0  04:00:00    04:00  \n12                    None      45  03:45:00    03:45  \n13                    None      30  03:30:00    03:30  \n14                    None      15  03:15:00    03:15  \n15                    None       0  03:00:00    03:00  \n16                    None      45  02:45:00    02:45  \n17                    None      30  02:30:00    02:30  \n18                    None      15  02:15:00    02:15  ",
      "text/html": "<div>\n<style scoped>\n    .dataframe tbody tr th:only-of-type {\n        vertical-align: middle;\n    }\n\n    .dataframe tbody tr th {\n        vertical-align: top;\n    }\n\n    .dataframe thead th {\n        text-align: right;\n    }\n</style>\n<table border=\"1\" class=\"dataframe\">\n  <thead>\n    <tr style=\"text-align: right;\">\n      <th></th>\n      <th>index</th>\n      <th>indexed_timestamp_</th>\n      <th>liquidity</th>\n      <th>name</th>\n      <th>resolution</th>\n      <th>liquidity_1d_ago</th>\n      <th>liquidity_avg_7d_ago</th>\n      <th>liquidity_vs_1d_ago</th>\n      <th>liquidity_vs_avg_7d_ago</th>\n      <th>minute</th>\n      <th>time</th>\n      <th>time_str</th>\n    </tr>\n  </thead>\n  <tbody>\n    <tr>\n      <th>0</th>\n      <td>10500</td>\n      <td>2023-10-16 08:45:00</td>\n      <td>28883.328454</td>\n      <td>Thị trường</td>\n      <td>market</td>\n      <td>None</td>\n      <td>None</td>\n      <td>None</td>\n      <td>None</td>\n      <td>45</td>\n      <td>08:45:00</td>\n      <td>08:45</td>\n    </tr>\n    <tr>\n      <th>1</th>\n      <td>10380</td>\n      <td>2023-10-16 08:00:00</td>\n      <td>28883.032202</td>\n      <td>Thị trường</td>\n      <td>market</td>\n      <td>None</td>\n      <td>None</td>\n      <td>None</td>\n      <td>None</td>\n      <td>0</td>\n      <td>08:00:00</td>\n      <td>08:00</td>\n    </tr>\n    <tr>\n      <th>2</th>\n      <td>10200</td>\n      <td>2023-10-16 07:45:00</td>\n      <td>27597.979855</td>\n      <td>Thị trường</td>\n      <td>market</td>\n      <td>None</td>\n      <td>None</td>\n      <td>None</td>\n      <td>None</td>\n      <td>45</td>\n      <td>07:45:00</td>\n      <td>07:45</td>\n    </tr>\n    <tr>\n      <th>3</th>\n      <td>10020</td>\n      <td>2023-10-16 07:30:00</td>\n      <td>27551.889950</td>\n      <td>Thị trường</td>\n      <td>market</td>\n      <td>None</td>\n      <td>None</td>\n      <td>None</td>\n      <td>None</td>\n      <td>30</td>\n      <td>07:30:00</td>\n      <td>07:30</td>\n    </tr>\n    <tr>\n      <th>4</th>\n      <td>9840</td>\n      <td>2023-10-16 07:15:00</td>\n      <td>24929.323811</td>\n      <td>Thị trường</td>\n      <td>market</td>\n      <td>None</td>\n      <td>None</td>\n      <td>None</td>\n      <td>None</td>\n      <td>15</td>\n      <td>07:15:00</td>\n      <td>07:15</td>\n    </tr>\n    <tr>\n      <th>5</th>\n      <td>9664</td>\n      <td>2023-10-16 07:00:00</td>\n      <td>23292.854002</td>\n      <td>Thị trường</td>\n      <td>market</td>\n      <td>None</td>\n      <td>None</td>\n      <td>None</td>\n      <td>None</td>\n      <td>0</td>\n      <td>07:00:00</td>\n      <td>07:00</td>\n    </tr>\n    <tr>\n      <th>6</th>\n      <td>9490</td>\n      <td>2023-10-16 06:45:00</td>\n      <td>22359.188434</td>\n      <td>Thị trường</td>\n      <td>market</td>\n      <td>None</td>\n      <td>None</td>\n      <td>None</td>\n      <td>None</td>\n      <td>45</td>\n      <td>06:45:00</td>\n      <td>06:45</td>\n    </tr>\n    <tr>\n      <th>7</th>\n      <td>9307</td>\n      <td>2023-10-16 06:30:00</td>\n      <td>21551.343798</td>\n      <td>Thị trường</td>\n      <td>market</td>\n      <td>None</td>\n      <td>None</td>\n      <td>None</td>\n      <td>None</td>\n      <td>30</td>\n      <td>06:30:00</td>\n      <td>06:30</td>\n    </tr>\n    <tr>\n      <th>8</th>\n      <td>9136</td>\n      <td>2023-10-16 06:15:00</td>\n      <td>20428.441790</td>\n      <td>Thị trường</td>\n      <td>market</td>\n      <td>None</td>\n      <td>None</td>\n      <td>None</td>\n      <td>None</td>\n      <td>15</td>\n      <td>06:15:00</td>\n      <td>06:15</td>\n    </tr>\n    <tr>\n      <th>9</th>\n      <td>8881</td>\n      <td>2023-10-16 04:30:00</td>\n      <td>19317.479098</td>\n      <td>Thị trường</td>\n      <td>market</td>\n      <td>None</td>\n      <td>None</td>\n      <td>None</td>\n      <td>None</td>\n      <td>30</td>\n      <td>04:30:00</td>\n      <td>04:30</td>\n    </tr>\n    <tr>\n      <th>10</th>\n      <td>8701</td>\n      <td>2023-10-16 04:15:00</td>\n      <td>18746.141942</td>\n      <td>Thị trường</td>\n      <td>market</td>\n      <td>None</td>\n      <td>None</td>\n      <td>None</td>\n      <td>None</td>\n      <td>15</td>\n      <td>04:15:00</td>\n      <td>04:15</td>\n    </tr>\n    <tr>\n      <th>11</th>\n      <td>8521</td>\n      <td>2023-10-16 04:00:00</td>\n      <td>18274.686712</td>\n      <td>Thị trường</td>\n      <td>market</td>\n      <td>None</td>\n      <td>None</td>\n      <td>None</td>\n      <td>None</td>\n      <td>0</td>\n      <td>04:00:00</td>\n      <td>04:00</td>\n    </tr>\n    <tr>\n      <th>12</th>\n      <td>8341</td>\n      <td>2023-10-16 03:45:00</td>\n      <td>17749.308452</td>\n      <td>Thị trường</td>\n      <td>market</td>\n      <td>None</td>\n      <td>None</td>\n      <td>None</td>\n      <td>None</td>\n      <td>45</td>\n      <td>03:45:00</td>\n      <td>03:45</td>\n    </tr>\n    <tr>\n      <th>13</th>\n      <td>8161</td>\n      <td>2023-10-16 03:30:00</td>\n      <td>17248.812597</td>\n      <td>Thị trường</td>\n      <td>market</td>\n      <td>None</td>\n      <td>None</td>\n      <td>None</td>\n      <td>None</td>\n      <td>30</td>\n      <td>03:30:00</td>\n      <td>03:30</td>\n    </tr>\n    <tr>\n      <th>14</th>\n      <td>7981</td>\n      <td>2023-10-16 03:15:00</td>\n      <td>16224.075339</td>\n      <td>Thị trường</td>\n      <td>market</td>\n      <td>None</td>\n      <td>None</td>\n      <td>None</td>\n      <td>None</td>\n      <td>15</td>\n      <td>03:15:00</td>\n      <td>03:15</td>\n    </tr>\n    <tr>\n      <th>15</th>\n      <td>7807</td>\n      <td>2023-10-16 03:00:00</td>\n      <td>15404.126256</td>\n      <td>Thị trường</td>\n      <td>market</td>\n      <td>None</td>\n      <td>None</td>\n      <td>None</td>\n      <td>None</td>\n      <td>0</td>\n      <td>03:00:00</td>\n      <td>03:00</td>\n    </tr>\n    <tr>\n      <th>16</th>\n      <td>7623</td>\n      <td>2023-10-16 02:45:00</td>\n      <td>14471.600637</td>\n      <td>Thị trường</td>\n      <td>market</td>\n      <td>None</td>\n      <td>None</td>\n      <td>None</td>\n      <td>None</td>\n      <td>45</td>\n      <td>02:45:00</td>\n      <td>02:45</td>\n    </tr>\n    <tr>\n      <th>17</th>\n      <td>7447</td>\n      <td>2023-10-16 02:30:00</td>\n      <td>401.817370</td>\n      <td>Thị trường</td>\n      <td>market</td>\n      <td>None</td>\n      <td>None</td>\n      <td>None</td>\n      <td>None</td>\n      <td>30</td>\n      <td>02:30:00</td>\n      <td>02:30</td>\n    </tr>\n    <tr>\n      <th>18</th>\n      <td>7263</td>\n      <td>2023-10-16 02:15:00</td>\n      <td>165.374520</td>\n      <td>Thị trường</td>\n      <td>market</td>\n      <td>None</td>\n      <td>None</td>\n      <td>None</td>\n      <td>None</td>\n      <td>15</td>\n      <td>02:15:00</td>\n      <td>02:15</td>\n    </tr>\n  </tbody>\n</table>\n</div>"
     },
     "execution_count": 144,
     "metadata": {},
     "output_type": "execute_result"
    }
   ],
   "source": [
    "today"
   ],
   "metadata": {
    "collapsed": false,
    "ExecuteTime": {
     "end_time": "2023-12-13T04:46:26.585684Z",
     "start_time": "2023-12-13T04:46:26.547091Z"
    }
   },
   "id": "bf422a1a327793eb"
  },
  {
   "cell_type": "code",
   "execution_count": 145,
   "outputs": [
    {
     "data": {
      "text/plain": "        time  max_liquidity  min_liquidity\n0   00:45:00       0.000000       0.000000\n1   02:15:00     625.549872     166.172950\n2   02:30:00    1642.217539    1331.951198\n3   02:45:00    2920.847783    2095.826372\n4   03:00:00    3940.475163    2866.243171\n5   03:15:00    4724.444113    3609.947263\n6   03:30:00    5443.300686    4172.723171\n7   03:45:00    6178.608481    4557.499541\n8   04:00:00    6745.270097    4938.543123\n9   04:15:00    7348.490533    5335.622806\n10  04:30:00    8030.932900    6032.762766\n11  06:15:00    8978.998298    7086.008706\n12  06:30:00    9891.890226    7980.337778\n13  06:45:00   11066.393190    8941.503545\n14  07:00:00   12618.470745   10477.727332\n15  07:15:00   13631.048860   11351.255901\n16  07:30:00   15632.283776   12964.454847\n17  07:45:00   15657.639018   12999.329578\n18  08:00:00   16329.280635   14090.380546",
      "text/html": "<div>\n<style scoped>\n    .dataframe tbody tr th:only-of-type {\n        vertical-align: middle;\n    }\n\n    .dataframe tbody tr th {\n        vertical-align: top;\n    }\n\n    .dataframe thead th {\n        text-align: right;\n    }\n</style>\n<table border=\"1\" class=\"dataframe\">\n  <thead>\n    <tr style=\"text-align: right;\">\n      <th></th>\n      <th>time</th>\n      <th>max_liquidity</th>\n      <th>min_liquidity</th>\n    </tr>\n  </thead>\n  <tbody>\n    <tr>\n      <th>0</th>\n      <td>00:45:00</td>\n      <td>0.000000</td>\n      <td>0.000000</td>\n    </tr>\n    <tr>\n      <th>1</th>\n      <td>02:15:00</td>\n      <td>625.549872</td>\n      <td>166.172950</td>\n    </tr>\n    <tr>\n      <th>2</th>\n      <td>02:30:00</td>\n      <td>1642.217539</td>\n      <td>1331.951198</td>\n    </tr>\n    <tr>\n      <th>3</th>\n      <td>02:45:00</td>\n      <td>2920.847783</td>\n      <td>2095.826372</td>\n    </tr>\n    <tr>\n      <th>4</th>\n      <td>03:00:00</td>\n      <td>3940.475163</td>\n      <td>2866.243171</td>\n    </tr>\n    <tr>\n      <th>5</th>\n      <td>03:15:00</td>\n      <td>4724.444113</td>\n      <td>3609.947263</td>\n    </tr>\n    <tr>\n      <th>6</th>\n      <td>03:30:00</td>\n      <td>5443.300686</td>\n      <td>4172.723171</td>\n    </tr>\n    <tr>\n      <th>7</th>\n      <td>03:45:00</td>\n      <td>6178.608481</td>\n      <td>4557.499541</td>\n    </tr>\n    <tr>\n      <th>8</th>\n      <td>04:00:00</td>\n      <td>6745.270097</td>\n      <td>4938.543123</td>\n    </tr>\n    <tr>\n      <th>9</th>\n      <td>04:15:00</td>\n      <td>7348.490533</td>\n      <td>5335.622806</td>\n    </tr>\n    <tr>\n      <th>10</th>\n      <td>04:30:00</td>\n      <td>8030.932900</td>\n      <td>6032.762766</td>\n    </tr>\n    <tr>\n      <th>11</th>\n      <td>06:15:00</td>\n      <td>8978.998298</td>\n      <td>7086.008706</td>\n    </tr>\n    <tr>\n      <th>12</th>\n      <td>06:30:00</td>\n      <td>9891.890226</td>\n      <td>7980.337778</td>\n    </tr>\n    <tr>\n      <th>13</th>\n      <td>06:45:00</td>\n      <td>11066.393190</td>\n      <td>8941.503545</td>\n    </tr>\n    <tr>\n      <th>14</th>\n      <td>07:00:00</td>\n      <td>12618.470745</td>\n      <td>10477.727332</td>\n    </tr>\n    <tr>\n      <th>15</th>\n      <td>07:15:00</td>\n      <td>13631.048860</td>\n      <td>11351.255901</td>\n    </tr>\n    <tr>\n      <th>16</th>\n      <td>07:30:00</td>\n      <td>15632.283776</td>\n      <td>12964.454847</td>\n    </tr>\n    <tr>\n      <th>17</th>\n      <td>07:45:00</td>\n      <td>15657.639018</td>\n      <td>12999.329578</td>\n    </tr>\n    <tr>\n      <th>18</th>\n      <td>08:00:00</td>\n      <td>16329.280635</td>\n      <td>14090.380546</td>\n    </tr>\n  </tbody>\n</table>\n</div>"
     },
     "execution_count": 145,
     "metadata": {},
     "output_type": "execute_result"
    }
   ],
   "source": [
    "five_day_ago"
   ],
   "metadata": {
    "collapsed": false,
    "ExecuteTime": {
     "end_time": "2023-12-13T04:48:22.837124Z",
     "start_time": "2023-12-13T04:48:22.823106Z"
    }
   },
   "id": "a05a2752bbd7664d"
  },
  {
   "cell_type": "code",
   "execution_count": 137,
   "outputs": [],
   "source": [
    "timestamp = datetime(2023, 10, 16)\n",
    "sql = f\"\"\"\n",
    "    select\n",
    "        *\n",
    "    from public.liquidity_all_resolution\n",
    "    where indexed_timestamp_::date = '{timestamp.strftime('%Y-%m-%d')}'::date\n",
    "    order by indexed_timestamp_;\n",
    "    \"\"\"\n",
    "df = pd.read_sql_query(\n",
    "    sql=sql,\n",
    "    con=dsai_engine\n",
    ")\n",
    "\n",
    "df[\"indexed_timestamp_\"] = pd.to_datetime(df[\"indexed_timestamp_\"])\n",
    "df = df[df['resolution'] == 'sector'] \n",
    "df['minute'] = df['indexed_timestamp_'].apply(lambda x: x.minute)\n",
    "df['time'] = df['indexed_timestamp_'].dt.time\n",
    "\n",
    "df = df[df['minute'].isin([0, 15, 30, 45])]\n",
    "df = df.sort_values(by='indexed_timestamp_', ascending=False)\n",
    "\n",
    "top_8_liquidity = df[df['indexed_timestamp_'] == df['indexed_timestamp_'].max()].sort_values(by='liquidity', ascending=False).head(8)['name'].unique().tolist()\n",
    "today = df[df['indexed_timestamp_'].dt.date == timestamp.date()]\n",
    "today = today[today['name'].isin(top_8_liquidity)]\n",
    "\n",
    "today['ratio'] = today['liquidity'] / today.groupby('time')['liquidity'].transform(pd.Series.sum)"
   ],
   "metadata": {
    "collapsed": false,
    "ExecuteTime": {
     "end_time": "2023-12-13T04:09:37.903639Z",
     "start_time": "2023-12-13T04:09:37.512159Z"
    }
   },
   "id": "c6c00a10b96c2add"
  },
  {
   "cell_type": "code",
   "execution_count": 138,
   "outputs": [
    {
     "data": {
      "text/plain": "      indexed_timestamp_    liquidity                                name  \\\n3375 2023-10-16 08:45:00  1124.901685                      Bán lẻ đa kênh   \n3374 2023-10-16 08:45:00  1444.070214                  Sản phẩm thực phẩm   \n3373 2023-10-16 08:45:00  1616.356698               Kim loại và khai thác   \n3372 2023-10-16 08:45:00  1929.668729                            Hóa chất   \n3371 2023-10-16 08:45:00  2187.555355                   Kỹ thuật xây dựng   \n...                  ...          ...                                 ...   \n132  2023-10-16 02:15:00     4.749860                            Hóa chất   \n130  2023-10-16 02:15:00    11.766220                   Kỹ thuật xây dựng   \n129  2023-10-16 02:15:00    16.860880    Môi giới chứng khoán và hàng hóa   \n128  2023-10-16 02:15:00    25.995850  Quản lý và Phát triển bất động sản   \n170  2023-10-16 02:15:00     0.000000                      Bán lẻ đa kênh   \n\n     resolution liquidity_1d_ago liquidity_avg_7d_ago liquidity_vs_1d_ago  \\\n3375     sector             None                 None                None   \n3374     sector             None                 None                None   \n3373     sector             None                 None                None   \n3372     sector             None                 None                None   \n3371     sector             None                 None                None   \n...         ...              ...                  ...                 ...   \n132      sector             None                 None                None   \n130      sector             None                 None                None   \n129      sector             None                 None                None   \n128      sector             None                 None                None   \n170      sector             None                 None                None   \n\n     liquidity_vs_avg_7d_ago  minute      time     ratio  \n3375                    None      45  08:45:00  0.049702  \n3374                    None      45  08:45:00  0.063803  \n3373                    None      45  08:45:00  0.071415  \n3372                    None      45  08:45:00  0.085259  \n3371                    None      45  08:45:00  0.096653  \n...                      ...     ...       ...       ...  \n132                     None      15  02:15:00  0.076199  \n130                     None      15  02:15:00  0.188758  \n129                     None      15  02:15:00  0.270489  \n128                     None      15  02:15:00  0.417036  \n170                     None      15  02:15:00  0.000000  \n\n[152 rows x 11 columns]",
      "text/html": "<div>\n<style scoped>\n    .dataframe tbody tr th:only-of-type {\n        vertical-align: middle;\n    }\n\n    .dataframe tbody tr th {\n        vertical-align: top;\n    }\n\n    .dataframe thead th {\n        text-align: right;\n    }\n</style>\n<table border=\"1\" class=\"dataframe\">\n  <thead>\n    <tr style=\"text-align: right;\">\n      <th></th>\n      <th>indexed_timestamp_</th>\n      <th>liquidity</th>\n      <th>name</th>\n      <th>resolution</th>\n      <th>liquidity_1d_ago</th>\n      <th>liquidity_avg_7d_ago</th>\n      <th>liquidity_vs_1d_ago</th>\n      <th>liquidity_vs_avg_7d_ago</th>\n      <th>minute</th>\n      <th>time</th>\n      <th>ratio</th>\n    </tr>\n  </thead>\n  <tbody>\n    <tr>\n      <th>3375</th>\n      <td>2023-10-16 08:45:00</td>\n      <td>1124.901685</td>\n      <td>Bán lẻ đa kênh</td>\n      <td>sector</td>\n      <td>None</td>\n      <td>None</td>\n      <td>None</td>\n      <td>None</td>\n      <td>45</td>\n      <td>08:45:00</td>\n      <td>0.049702</td>\n    </tr>\n    <tr>\n      <th>3374</th>\n      <td>2023-10-16 08:45:00</td>\n      <td>1444.070214</td>\n      <td>Sản phẩm thực phẩm</td>\n      <td>sector</td>\n      <td>None</td>\n      <td>None</td>\n      <td>None</td>\n      <td>None</td>\n      <td>45</td>\n      <td>08:45:00</td>\n      <td>0.063803</td>\n    </tr>\n    <tr>\n      <th>3373</th>\n      <td>2023-10-16 08:45:00</td>\n      <td>1616.356698</td>\n      <td>Kim loại và khai thác</td>\n      <td>sector</td>\n      <td>None</td>\n      <td>None</td>\n      <td>None</td>\n      <td>None</td>\n      <td>45</td>\n      <td>08:45:00</td>\n      <td>0.071415</td>\n    </tr>\n    <tr>\n      <th>3372</th>\n      <td>2023-10-16 08:45:00</td>\n      <td>1929.668729</td>\n      <td>Hóa chất</td>\n      <td>sector</td>\n      <td>None</td>\n      <td>None</td>\n      <td>None</td>\n      <td>None</td>\n      <td>45</td>\n      <td>08:45:00</td>\n      <td>0.085259</td>\n    </tr>\n    <tr>\n      <th>3371</th>\n      <td>2023-10-16 08:45:00</td>\n      <td>2187.555355</td>\n      <td>Kỹ thuật xây dựng</td>\n      <td>sector</td>\n      <td>None</td>\n      <td>None</td>\n      <td>None</td>\n      <td>None</td>\n      <td>45</td>\n      <td>08:45:00</td>\n      <td>0.096653</td>\n    </tr>\n    <tr>\n      <th>...</th>\n      <td>...</td>\n      <td>...</td>\n      <td>...</td>\n      <td>...</td>\n      <td>...</td>\n      <td>...</td>\n      <td>...</td>\n      <td>...</td>\n      <td>...</td>\n      <td>...</td>\n      <td>...</td>\n    </tr>\n    <tr>\n      <th>132</th>\n      <td>2023-10-16 02:15:00</td>\n      <td>4.749860</td>\n      <td>Hóa chất</td>\n      <td>sector</td>\n      <td>None</td>\n      <td>None</td>\n      <td>None</td>\n      <td>None</td>\n      <td>15</td>\n      <td>02:15:00</td>\n      <td>0.076199</td>\n    </tr>\n    <tr>\n      <th>130</th>\n      <td>2023-10-16 02:15:00</td>\n      <td>11.766220</td>\n      <td>Kỹ thuật xây dựng</td>\n      <td>sector</td>\n      <td>None</td>\n      <td>None</td>\n      <td>None</td>\n      <td>None</td>\n      <td>15</td>\n      <td>02:15:00</td>\n      <td>0.188758</td>\n    </tr>\n    <tr>\n      <th>129</th>\n      <td>2023-10-16 02:15:00</td>\n      <td>16.860880</td>\n      <td>Môi giới chứng khoán và hàng hóa</td>\n      <td>sector</td>\n      <td>None</td>\n      <td>None</td>\n      <td>None</td>\n      <td>None</td>\n      <td>15</td>\n      <td>02:15:00</td>\n      <td>0.270489</td>\n    </tr>\n    <tr>\n      <th>128</th>\n      <td>2023-10-16 02:15:00</td>\n      <td>25.995850</td>\n      <td>Quản lý và Phát triển bất động sản</td>\n      <td>sector</td>\n      <td>None</td>\n      <td>None</td>\n      <td>None</td>\n      <td>None</td>\n      <td>15</td>\n      <td>02:15:00</td>\n      <td>0.417036</td>\n    </tr>\n    <tr>\n      <th>170</th>\n      <td>2023-10-16 02:15:00</td>\n      <td>0.000000</td>\n      <td>Bán lẻ đa kênh</td>\n      <td>sector</td>\n      <td>None</td>\n      <td>None</td>\n      <td>None</td>\n      <td>None</td>\n      <td>15</td>\n      <td>02:15:00</td>\n      <td>0.000000</td>\n    </tr>\n  </tbody>\n</table>\n<p>152 rows × 11 columns</p>\n</div>"
     },
     "execution_count": 138,
     "metadata": {},
     "output_type": "execute_result"
    }
   ],
   "source": [
    "today"
   ],
   "metadata": {
    "collapsed": false,
    "ExecuteTime": {
     "end_time": "2023-12-13T04:09:39.302593Z",
     "start_time": "2023-12-13T04:09:39.251674Z"
    }
   },
   "id": "707e578c47bb2374"
  },
  {
   "cell_type": "code",
   "execution_count": null,
   "outputs": [],
   "source": [
    "df"
   ],
   "metadata": {
    "collapsed": false
   },
   "id": "5db96b6b6d60f40d"
  },
  {
   "cell_type": "code",
   "execution_count": null,
   "outputs": [],
   "source": [
    "import streamlit as st\n",
    "import time\n",
    "import numpy as np\n",
    "import pandas as pd \n",
    "\n",
    "\n",
    "conn = st.experimental_connection(\"postgresql\", type=\"sql\")\n",
    "df = conn.query(\"select liquidity from liquidity_all_resolution where resolution = 'market' limit 100 \", ttl=\"10m\")\n",
    "\n",
    "\n",
    "# for row in df.itertuples():\n",
    "#     st.write(f\"{row.name} has a :{row.pet}:\")\n",
    "\n",
    "\n",
    "# chart_data = pd.DataFrame(np.random.randn(20, 3), columns=[\"a\", \"b\", \"c\"])\n",
    "\n",
    "st.line_chart(df)"
   ],
   "metadata": {
    "collapsed": false
   },
   "id": "3decf771815b7866"
  },
  {
   "cell_type": "code",
   "execution_count": 198,
   "outputs": [],
   "source": [
    "# sector_info_sql = f\"\"\"\n",
    "#     select\n",
    "#         symbol_\n",
    "#         , nganhcap3\n",
    "#         , nganhcap2\n",
    "#         , nganhcap1\n",
    "#     from public.wifeed_bctc_thong_tin_co_ban_doanh_nghiep\n",
    "#     where indexed_timestamp_ in (select max(indexed_timestamp_) from wifeed_bctc_thong_tin_co_ban_doanh_nghiep)\n",
    "# \"\"\"\n",
    "# \n",
    "# sector_info = pd.read_sql_query(\n",
    "#     sql=sector_info_sql,\n",
    "#     con=dsai_engine\n",
    "# )\n",
    "\n",
    "timestamp = datetime(2023, 12, 12)\n",
    "symbol_sql = f\"\"\"\n",
    "    select *\n",
    "    from public.symbol_all_metric\n",
    "    where indexed_timestamp_ = (\n",
    "        select max(indexed_timestamp_) \n",
    "        from public.symbol_all_metric \n",
    "        where indexed_timestamp_::date = '{timestamp.strftime('%Y-%m-%d')}')\n",
    "\"\"\"\n",
    "\n",
    "symbol = pd.read_sql_query(\n",
    "    sql=symbol_sql,\n",
    "    con=dsai_engine\n",
    ")\n",
    "symbol['net_value'] = symbol['buyForeignQttyVal'] - symbol['sellForeignQttyVal']\n",
    "\n",
    "sector = symbol.groupby('sector')['net_buy'].apply(lambda x: (x > 0).sum()).reset_index(name='net_buy_count')\n",
    "sector['net_sell_count'] = symbol.groupby('sector')['net_sell'].apply(lambda x: (x > 0).sum()).reset_index()['net_sell']\n",
    "sector['net_value'] = symbol.groupby('sector')['net_value'].apply(lambda x: x.sum()).reset_index()['net_value']\n",
    "sector['symbol_count'] = symbol.groupby('sector')['symbol'].apply(lambda x: x.count()).reset_index()['symbol']\n",
    "sector['buy_minus_sell_count'] = sector['net_buy_count'] - sector['net_sell_count']\n",
    "sector['net_buy_ratio'] = sector['net_buy_count'] / sector['symbol_count']\n",
    "sector['net_sell_ratio'] = sector['net_sell_count'] / sector['symbol_count']\n",
    "\n"
   ],
   "metadata": {
    "collapsed": false,
    "ExecuteTime": {
     "end_time": "2023-12-13T07:45:22.030528Z",
     "start_time": "2023-12-13T07:45:21.204184Z"
    }
   },
   "id": "9502ddb6e835b75a"
  },
  {
   "cell_type": "code",
   "execution_count": 196,
   "outputs": [
    {
     "data": {
      "text/plain": "    symbol                            sector  floor  buyForeignQtty  \\\n0      A32         Hàng dệt, may và phụ kiện  UPCOM             0.0   \n1      AAA                          Hóa chất   HOSE            70.0   \n2      AAM                Sản phẩm thực phẩm   HOSE             0.0   \n3      AAS  Môi giới chứng khoán và hàng hóa  UPCOM             0.0   \n4      AAT         Hàng dệt, may và phụ kiện   HOSE             0.0   \n..     ...                               ...    ...             ...   \n927    XMC                 Kỹ thuật xây dựng  UPCOM             0.0   \n928    YBC                 Vật liệu xây dựng  UPCOM            10.0   \n929    YBM             Kim loại và khai thác   HOSE             0.0   \n930    YEG          Phương tiện truyền thông   HOSE          1130.0   \n931    YTC                     Nhà phân phối  UPCOM             0.0   \n\n     sellForeignQtty  buyForeignQttyVal  sellForeignQttyVal  liquidity  \\\n0                0.0                0.0               0.000   0.036070   \n1            14320.6              678.3          138688.914  29.663050   \n2                0.0                0.0               0.000   0.054442   \n3                0.0                0.0               0.000   6.133890   \n4                0.0                0.0               0.000   1.571661   \n..               ...                ...                 ...        ...   \n927              0.0                0.0               0.000   0.020960   \n928              0.0               73.0               0.000   0.000730   \n929              0.0                0.0               0.000   0.060210   \n930            370.0            20733.5            6787.500  16.747690   \n931              0.0                0.0               0.000   0.207800   \n\n     net_buy    net_sell  indexed_timestamp_   net_value  \n0        0.0       0.000 2023-12-12 08:05:00       0.000  \n1        0.0  138010.614 2023-12-12 08:05:00 -138010.614  \n2        0.0       0.000 2023-12-12 08:05:00       0.000  \n3        0.0       0.000 2023-12-12 08:05:00       0.000  \n4        0.0       0.000 2023-12-12 08:05:00       0.000  \n..       ...         ...                 ...         ...  \n927      0.0       0.000 2023-12-12 08:05:00       0.000  \n928     73.0       0.000 2023-12-12 08:05:00      73.000  \n929      0.0       0.000 2023-12-12 08:05:00       0.000  \n930  13946.0       0.000 2023-12-12 08:05:00   13946.000  \n931      0.0       0.000 2023-12-12 08:05:00       0.000  \n\n[932 rows x 12 columns]",
      "text/html": "<div>\n<style scoped>\n    .dataframe tbody tr th:only-of-type {\n        vertical-align: middle;\n    }\n\n    .dataframe tbody tr th {\n        vertical-align: top;\n    }\n\n    .dataframe thead th {\n        text-align: right;\n    }\n</style>\n<table border=\"1\" class=\"dataframe\">\n  <thead>\n    <tr style=\"text-align: right;\">\n      <th></th>\n      <th>symbol</th>\n      <th>sector</th>\n      <th>floor</th>\n      <th>buyForeignQtty</th>\n      <th>sellForeignQtty</th>\n      <th>buyForeignQttyVal</th>\n      <th>sellForeignQttyVal</th>\n      <th>liquidity</th>\n      <th>net_buy</th>\n      <th>net_sell</th>\n      <th>indexed_timestamp_</th>\n      <th>net_value</th>\n    </tr>\n  </thead>\n  <tbody>\n    <tr>\n      <th>0</th>\n      <td>A32</td>\n      <td>Hàng dệt, may và phụ kiện</td>\n      <td>UPCOM</td>\n      <td>0.0</td>\n      <td>0.0</td>\n      <td>0.0</td>\n      <td>0.000</td>\n      <td>0.036070</td>\n      <td>0.0</td>\n      <td>0.000</td>\n      <td>2023-12-12 08:05:00</td>\n      <td>0.000</td>\n    </tr>\n    <tr>\n      <th>1</th>\n      <td>AAA</td>\n      <td>Hóa chất</td>\n      <td>HOSE</td>\n      <td>70.0</td>\n      <td>14320.6</td>\n      <td>678.3</td>\n      <td>138688.914</td>\n      <td>29.663050</td>\n      <td>0.0</td>\n      <td>138010.614</td>\n      <td>2023-12-12 08:05:00</td>\n      <td>-138010.614</td>\n    </tr>\n    <tr>\n      <th>2</th>\n      <td>AAM</td>\n      <td>Sản phẩm thực phẩm</td>\n      <td>HOSE</td>\n      <td>0.0</td>\n      <td>0.0</td>\n      <td>0.0</td>\n      <td>0.000</td>\n      <td>0.054442</td>\n      <td>0.0</td>\n      <td>0.000</td>\n      <td>2023-12-12 08:05:00</td>\n      <td>0.000</td>\n    </tr>\n    <tr>\n      <th>3</th>\n      <td>AAS</td>\n      <td>Môi giới chứng khoán và hàng hóa</td>\n      <td>UPCOM</td>\n      <td>0.0</td>\n      <td>0.0</td>\n      <td>0.0</td>\n      <td>0.000</td>\n      <td>6.133890</td>\n      <td>0.0</td>\n      <td>0.000</td>\n      <td>2023-12-12 08:05:00</td>\n      <td>0.000</td>\n    </tr>\n    <tr>\n      <th>4</th>\n      <td>AAT</td>\n      <td>Hàng dệt, may và phụ kiện</td>\n      <td>HOSE</td>\n      <td>0.0</td>\n      <td>0.0</td>\n      <td>0.0</td>\n      <td>0.000</td>\n      <td>1.571661</td>\n      <td>0.0</td>\n      <td>0.000</td>\n      <td>2023-12-12 08:05:00</td>\n      <td>0.000</td>\n    </tr>\n    <tr>\n      <th>...</th>\n      <td>...</td>\n      <td>...</td>\n      <td>...</td>\n      <td>...</td>\n      <td>...</td>\n      <td>...</td>\n      <td>...</td>\n      <td>...</td>\n      <td>...</td>\n      <td>...</td>\n      <td>...</td>\n      <td>...</td>\n    </tr>\n    <tr>\n      <th>927</th>\n      <td>XMC</td>\n      <td>Kỹ thuật xây dựng</td>\n      <td>UPCOM</td>\n      <td>0.0</td>\n      <td>0.0</td>\n      <td>0.0</td>\n      <td>0.000</td>\n      <td>0.020960</td>\n      <td>0.0</td>\n      <td>0.000</td>\n      <td>2023-12-12 08:05:00</td>\n      <td>0.000</td>\n    </tr>\n    <tr>\n      <th>928</th>\n      <td>YBC</td>\n      <td>Vật liệu xây dựng</td>\n      <td>UPCOM</td>\n      <td>10.0</td>\n      <td>0.0</td>\n      <td>73.0</td>\n      <td>0.000</td>\n      <td>0.000730</td>\n      <td>73.0</td>\n      <td>0.000</td>\n      <td>2023-12-12 08:05:00</td>\n      <td>73.000</td>\n    </tr>\n    <tr>\n      <th>929</th>\n      <td>YBM</td>\n      <td>Kim loại và khai thác</td>\n      <td>HOSE</td>\n      <td>0.0</td>\n      <td>0.0</td>\n      <td>0.0</td>\n      <td>0.000</td>\n      <td>0.060210</td>\n      <td>0.0</td>\n      <td>0.000</td>\n      <td>2023-12-12 08:05:00</td>\n      <td>0.000</td>\n    </tr>\n    <tr>\n      <th>930</th>\n      <td>YEG</td>\n      <td>Phương tiện truyền thông</td>\n      <td>HOSE</td>\n      <td>1130.0</td>\n      <td>370.0</td>\n      <td>20733.5</td>\n      <td>6787.500</td>\n      <td>16.747690</td>\n      <td>13946.0</td>\n      <td>0.000</td>\n      <td>2023-12-12 08:05:00</td>\n      <td>13946.000</td>\n    </tr>\n    <tr>\n      <th>931</th>\n      <td>YTC</td>\n      <td>Nhà phân phối</td>\n      <td>UPCOM</td>\n      <td>0.0</td>\n      <td>0.0</td>\n      <td>0.0</td>\n      <td>0.000</td>\n      <td>0.207800</td>\n      <td>0.0</td>\n      <td>0.000</td>\n      <td>2023-12-12 08:05:00</td>\n      <td>0.000</td>\n    </tr>\n  </tbody>\n</table>\n<p>932 rows × 12 columns</p>\n</div>"
     },
     "execution_count": 196,
     "metadata": {},
     "output_type": "execute_result"
    }
   ],
   "source": [
    "symbol"
   ],
   "metadata": {
    "collapsed": false,
    "ExecuteTime": {
     "end_time": "2023-12-13T07:44:34.629221Z",
     "start_time": "2023-12-13T07:44:34.621099Z"
    }
   },
   "id": "8a4bc28203b346d"
  },
  {
   "cell_type": "code",
   "execution_count": 199,
   "outputs": [
    {
     "data": {
      "text/plain": "                                          sector  net_buy_count  \\\n0                                         Bao bì              0   \n1                             Bán lẻ chuyên dụng              2   \n2                                 Bán lẻ đa kênh              1   \n3                Bảo hiểm và hoạt động liên quan              6   \n4                       Cơ sở hạ tầng giao thông              3   \n5                                      Dược phẩm              2   \n6            Dầu, khí đốt và nhiên liệu tiêu hao              2   \n7                                     Dịch vụ IT              0   \n8                      Dịch vụ tiêu dùng đa dạng              0   \n9                      Dịch vụ tài chính đa dạng              1   \n10                    Dịch vụ viễn thông đa dạng              1   \n11          Dịch vụ và nguồn cung cấp thương mại              1   \n12       Dịch vụ vận tải hàng không và logistics              0   \n13                                      Giải trí              0   \n14                               Giấy và lâm sản              0   \n15                     Hàng dệt, may và phụ kiện              2   \n16                                 Hàng gia dụng              1   \n17                                    Hàng xa xỉ              0   \n18                               Hãng hàng không              0   \n19                                      Hóa chất              9   \n20               Khách sạn, nhà hàng và giải trí              0   \n21                         Kim loại và khai thác              4   \n22                           Kinh doanh xăng dầu              0   \n23                             Kỹ thuật xây dựng              8   \n24                                Linh kiện ô tô              1   \n25                                       Máy móc              2   \n26              Môi giới chứng khoán và hàng hóa              9   \n27                                     Ngân hàng              4   \n28     Nhà cung cấp và dịch vụ chăm sóc sức khỏe              1   \n29                                 Nhà phân phối              2   \n30                   Những dịch vụ chuyên nghiệp              0   \n31                    Những sản phẩm nông nghiệp              1   \n32                      Phương tiện truyền thông              1   \n33                                      Phần mềm              1   \n34            Quản lý và Phát triển bất động sản             14   \n35                              Sản phẩm cá nhân              0   \n36                            Sản phẩm thực phẩm             12   \n37              Sản xuất sản phẩm nhựa và cao su              0   \n38                   Than và hoạt động liên quan              0   \n39                Thiết bị và dịch vụ năng lượng              2   \n40  Thiết bị và nguồn cung cấp chăm sóc sức khỏe              0   \n41                                 Thiết bị điện              2   \n42                                      Thuốc lá              1   \n43                                 Tiện ích khác              0   \n44                              Tiện ích khí đốt              1   \n45                                 Tiện ích nước              1   \n46                                 Tiện ích điện              5   \n47                          Tập đoàn công nghiệp              0   \n48                             Vật liệu xây dựng              4   \n49                                          Ô tô              0   \n50                                    Đường biển              3   \n51                         Đường bộ và đường sắt              1   \n52                                       Đồ uống              1   \n\n    net_sell_count     net_value  symbol_count  buy_minus_sell_count  \\\n0                0  0.000000e+00             7                     0   \n1                0  2.371876e+05            12                     2   \n2                1  3.821882e+05             4                     0   \n3                3 -1.333685e+05            12                     3   \n4                7 -2.961883e+06            31                    -4   \n5                4 -1.151120e+05            26                    -2   \n6                0  2.144912e+06             5                     2   \n7                2 -1.618640e+04             3                    -2   \n8                0  0.000000e+00             1                     0   \n9                0  3.104400e+03             1                     1   \n10               0  1.012750e+05            10                     1   \n11               0  2.790000e+02             9                     1   \n12               0  0.000000e+00             9                     0   \n13               0  0.000000e+00             1                     0   \n14               7 -1.522178e+06            20                    -7   \n15               5 -1.008500e+03            32                    -3   \n16               3 -2.106166e+05             7                    -2   \n17               0  0.000000e+00             1                     0   \n18               2 -3.942000e+05             2                    -2   \n19               3  1.936607e+06            47                     6   \n20               1 -2.494000e+01            14                    -1   \n21               4  3.554427e+06            40                     0   \n22               1 -7.630350e+04            21                    -1   \n23              15  1.287946e+06           125                    -7   \n24               0  3.995000e+03             3                     1   \n25               0  6.439000e+04             9                     2   \n26              11  1.283257e+06            35                    -2   \n27              10 -1.074974e+07            29                    -6   \n28               1 -2.083305e+05             7                     0   \n29               2 -3.167610e+04            17                     0   \n30               0  0.000000e+00             3                     0   \n31               0  1.380000e+03             1                     1   \n32               1  1.327600e+04            10                     0   \n33               2  9.914659e+05             7                    -1   \n34              17  1.135014e+06            91                    -3   \n35               0  0.000000e+00             2                     0   \n36              12 -5.278391e+06            63                     0   \n37               1 -9.840000e+02             3                    -1   \n38               0  0.000000e+00            11                     0   \n39               0  8.223415e+05             4                     2   \n40               0  0.000000e+00             1                     0   \n41               0  8.458700e+03            13                     2   \n42               0  7.300000e+01             2                     1   \n43               0  0.000000e+00             4                     0   \n44               1  7.255382e+05             9                     0   \n45               3 -2.939230e+05            24                    -2   \n46               5 -5.071165e+05            35                     0   \n47               4 -7.090096e+06             5                    -4   \n48               6 -3.363554e+05            54                    -2   \n49               0  0.000000e+00             1                     0   \n50               4  3.360880e+04            18                    -1   \n51               0  6.258000e+04            13                     1   \n52               2 -1.965117e+05            18                    -1   \n\n    net_buy_ratio  net_sell_ratio  \n0        0.000000        0.000000  \n1        0.166667        0.000000  \n2        0.250000        0.250000  \n3        0.500000        0.250000  \n4        0.096774        0.225806  \n5        0.076923        0.153846  \n6        0.400000        0.000000  \n7        0.000000        0.666667  \n8        0.000000        0.000000  \n9        1.000000        0.000000  \n10       0.100000        0.000000  \n11       0.111111        0.000000  \n12       0.000000        0.000000  \n13       0.000000        0.000000  \n14       0.000000        0.350000  \n15       0.062500        0.156250  \n16       0.142857        0.428571  \n17       0.000000        0.000000  \n18       0.000000        1.000000  \n19       0.191489        0.063830  \n20       0.000000        0.071429  \n21       0.100000        0.100000  \n22       0.000000        0.047619  \n23       0.064000        0.120000  \n24       0.333333        0.000000  \n25       0.222222        0.000000  \n26       0.257143        0.314286  \n27       0.137931        0.344828  \n28       0.142857        0.142857  \n29       0.117647        0.117647  \n30       0.000000        0.000000  \n31       1.000000        0.000000  \n32       0.100000        0.100000  \n33       0.142857        0.285714  \n34       0.153846        0.186813  \n35       0.000000        0.000000  \n36       0.190476        0.190476  \n37       0.000000        0.333333  \n38       0.000000        0.000000  \n39       0.500000        0.000000  \n40       0.000000        0.000000  \n41       0.153846        0.000000  \n42       0.500000        0.000000  \n43       0.000000        0.000000  \n44       0.111111        0.111111  \n45       0.041667        0.125000  \n46       0.142857        0.142857  \n47       0.000000        0.800000  \n48       0.074074        0.111111  \n49       0.000000        0.000000  \n50       0.166667        0.222222  \n51       0.076923        0.000000  \n52       0.055556        0.111111  ",
      "text/html": "<div>\n<style scoped>\n    .dataframe tbody tr th:only-of-type {\n        vertical-align: middle;\n    }\n\n    .dataframe tbody tr th {\n        vertical-align: top;\n    }\n\n    .dataframe thead th {\n        text-align: right;\n    }\n</style>\n<table border=\"1\" class=\"dataframe\">\n  <thead>\n    <tr style=\"text-align: right;\">\n      <th></th>\n      <th>sector</th>\n      <th>net_buy_count</th>\n      <th>net_sell_count</th>\n      <th>net_value</th>\n      <th>symbol_count</th>\n      <th>buy_minus_sell_count</th>\n      <th>net_buy_ratio</th>\n      <th>net_sell_ratio</th>\n    </tr>\n  </thead>\n  <tbody>\n    <tr>\n      <th>0</th>\n      <td>Bao bì</td>\n      <td>0</td>\n      <td>0</td>\n      <td>0.000000e+00</td>\n      <td>7</td>\n      <td>0</td>\n      <td>0.000000</td>\n      <td>0.000000</td>\n    </tr>\n    <tr>\n      <th>1</th>\n      <td>Bán lẻ chuyên dụng</td>\n      <td>2</td>\n      <td>0</td>\n      <td>2.371876e+05</td>\n      <td>12</td>\n      <td>2</td>\n      <td>0.166667</td>\n      <td>0.000000</td>\n    </tr>\n    <tr>\n      <th>2</th>\n      <td>Bán lẻ đa kênh</td>\n      <td>1</td>\n      <td>1</td>\n      <td>3.821882e+05</td>\n      <td>4</td>\n      <td>0</td>\n      <td>0.250000</td>\n      <td>0.250000</td>\n    </tr>\n    <tr>\n      <th>3</th>\n      <td>Bảo hiểm và hoạt động liên quan</td>\n      <td>6</td>\n      <td>3</td>\n      <td>-1.333685e+05</td>\n      <td>12</td>\n      <td>3</td>\n      <td>0.500000</td>\n      <td>0.250000</td>\n    </tr>\n    <tr>\n      <th>4</th>\n      <td>Cơ sở hạ tầng giao thông</td>\n      <td>3</td>\n      <td>7</td>\n      <td>-2.961883e+06</td>\n      <td>31</td>\n      <td>-4</td>\n      <td>0.096774</td>\n      <td>0.225806</td>\n    </tr>\n    <tr>\n      <th>5</th>\n      <td>Dược phẩm</td>\n      <td>2</td>\n      <td>4</td>\n      <td>-1.151120e+05</td>\n      <td>26</td>\n      <td>-2</td>\n      <td>0.076923</td>\n      <td>0.153846</td>\n    </tr>\n    <tr>\n      <th>6</th>\n      <td>Dầu, khí đốt và nhiên liệu tiêu hao</td>\n      <td>2</td>\n      <td>0</td>\n      <td>2.144912e+06</td>\n      <td>5</td>\n      <td>2</td>\n      <td>0.400000</td>\n      <td>0.000000</td>\n    </tr>\n    <tr>\n      <th>7</th>\n      <td>Dịch vụ IT</td>\n      <td>0</td>\n      <td>2</td>\n      <td>-1.618640e+04</td>\n      <td>3</td>\n      <td>-2</td>\n      <td>0.000000</td>\n      <td>0.666667</td>\n    </tr>\n    <tr>\n      <th>8</th>\n      <td>Dịch vụ tiêu dùng đa dạng</td>\n      <td>0</td>\n      <td>0</td>\n      <td>0.000000e+00</td>\n      <td>1</td>\n      <td>0</td>\n      <td>0.000000</td>\n      <td>0.000000</td>\n    </tr>\n    <tr>\n      <th>9</th>\n      <td>Dịch vụ tài chính đa dạng</td>\n      <td>1</td>\n      <td>0</td>\n      <td>3.104400e+03</td>\n      <td>1</td>\n      <td>1</td>\n      <td>1.000000</td>\n      <td>0.000000</td>\n    </tr>\n    <tr>\n      <th>10</th>\n      <td>Dịch vụ viễn thông đa dạng</td>\n      <td>1</td>\n      <td>0</td>\n      <td>1.012750e+05</td>\n      <td>10</td>\n      <td>1</td>\n      <td>0.100000</td>\n      <td>0.000000</td>\n    </tr>\n    <tr>\n      <th>11</th>\n      <td>Dịch vụ và nguồn cung cấp thương mại</td>\n      <td>1</td>\n      <td>0</td>\n      <td>2.790000e+02</td>\n      <td>9</td>\n      <td>1</td>\n      <td>0.111111</td>\n      <td>0.000000</td>\n    </tr>\n    <tr>\n      <th>12</th>\n      <td>Dịch vụ vận tải hàng không và logistics</td>\n      <td>0</td>\n      <td>0</td>\n      <td>0.000000e+00</td>\n      <td>9</td>\n      <td>0</td>\n      <td>0.000000</td>\n      <td>0.000000</td>\n    </tr>\n    <tr>\n      <th>13</th>\n      <td>Giải trí</td>\n      <td>0</td>\n      <td>0</td>\n      <td>0.000000e+00</td>\n      <td>1</td>\n      <td>0</td>\n      <td>0.000000</td>\n      <td>0.000000</td>\n    </tr>\n    <tr>\n      <th>14</th>\n      <td>Giấy và lâm sản</td>\n      <td>0</td>\n      <td>7</td>\n      <td>-1.522178e+06</td>\n      <td>20</td>\n      <td>-7</td>\n      <td>0.000000</td>\n      <td>0.350000</td>\n    </tr>\n    <tr>\n      <th>15</th>\n      <td>Hàng dệt, may và phụ kiện</td>\n      <td>2</td>\n      <td>5</td>\n      <td>-1.008500e+03</td>\n      <td>32</td>\n      <td>-3</td>\n      <td>0.062500</td>\n      <td>0.156250</td>\n    </tr>\n    <tr>\n      <th>16</th>\n      <td>Hàng gia dụng</td>\n      <td>1</td>\n      <td>3</td>\n      <td>-2.106166e+05</td>\n      <td>7</td>\n      <td>-2</td>\n      <td>0.142857</td>\n      <td>0.428571</td>\n    </tr>\n    <tr>\n      <th>17</th>\n      <td>Hàng xa xỉ</td>\n      <td>0</td>\n      <td>0</td>\n      <td>0.000000e+00</td>\n      <td>1</td>\n      <td>0</td>\n      <td>0.000000</td>\n      <td>0.000000</td>\n    </tr>\n    <tr>\n      <th>18</th>\n      <td>Hãng hàng không</td>\n      <td>0</td>\n      <td>2</td>\n      <td>-3.942000e+05</td>\n      <td>2</td>\n      <td>-2</td>\n      <td>0.000000</td>\n      <td>1.000000</td>\n    </tr>\n    <tr>\n      <th>19</th>\n      <td>Hóa chất</td>\n      <td>9</td>\n      <td>3</td>\n      <td>1.936607e+06</td>\n      <td>47</td>\n      <td>6</td>\n      <td>0.191489</td>\n      <td>0.063830</td>\n    </tr>\n    <tr>\n      <th>20</th>\n      <td>Khách sạn, nhà hàng và giải trí</td>\n      <td>0</td>\n      <td>1</td>\n      <td>-2.494000e+01</td>\n      <td>14</td>\n      <td>-1</td>\n      <td>0.000000</td>\n      <td>0.071429</td>\n    </tr>\n    <tr>\n      <th>21</th>\n      <td>Kim loại và khai thác</td>\n      <td>4</td>\n      <td>4</td>\n      <td>3.554427e+06</td>\n      <td>40</td>\n      <td>0</td>\n      <td>0.100000</td>\n      <td>0.100000</td>\n    </tr>\n    <tr>\n      <th>22</th>\n      <td>Kinh doanh xăng dầu</td>\n      <td>0</td>\n      <td>1</td>\n      <td>-7.630350e+04</td>\n      <td>21</td>\n      <td>-1</td>\n      <td>0.000000</td>\n      <td>0.047619</td>\n    </tr>\n    <tr>\n      <th>23</th>\n      <td>Kỹ thuật xây dựng</td>\n      <td>8</td>\n      <td>15</td>\n      <td>1.287946e+06</td>\n      <td>125</td>\n      <td>-7</td>\n      <td>0.064000</td>\n      <td>0.120000</td>\n    </tr>\n    <tr>\n      <th>24</th>\n      <td>Linh kiện ô tô</td>\n      <td>1</td>\n      <td>0</td>\n      <td>3.995000e+03</td>\n      <td>3</td>\n      <td>1</td>\n      <td>0.333333</td>\n      <td>0.000000</td>\n    </tr>\n    <tr>\n      <th>25</th>\n      <td>Máy móc</td>\n      <td>2</td>\n      <td>0</td>\n      <td>6.439000e+04</td>\n      <td>9</td>\n      <td>2</td>\n      <td>0.222222</td>\n      <td>0.000000</td>\n    </tr>\n    <tr>\n      <th>26</th>\n      <td>Môi giới chứng khoán và hàng hóa</td>\n      <td>9</td>\n      <td>11</td>\n      <td>1.283257e+06</td>\n      <td>35</td>\n      <td>-2</td>\n      <td>0.257143</td>\n      <td>0.314286</td>\n    </tr>\n    <tr>\n      <th>27</th>\n      <td>Ngân hàng</td>\n      <td>4</td>\n      <td>10</td>\n      <td>-1.074974e+07</td>\n      <td>29</td>\n      <td>-6</td>\n      <td>0.137931</td>\n      <td>0.344828</td>\n    </tr>\n    <tr>\n      <th>28</th>\n      <td>Nhà cung cấp và dịch vụ chăm sóc sức khỏe</td>\n      <td>1</td>\n      <td>1</td>\n      <td>-2.083305e+05</td>\n      <td>7</td>\n      <td>0</td>\n      <td>0.142857</td>\n      <td>0.142857</td>\n    </tr>\n    <tr>\n      <th>29</th>\n      <td>Nhà phân phối</td>\n      <td>2</td>\n      <td>2</td>\n      <td>-3.167610e+04</td>\n      <td>17</td>\n      <td>0</td>\n      <td>0.117647</td>\n      <td>0.117647</td>\n    </tr>\n    <tr>\n      <th>30</th>\n      <td>Những dịch vụ chuyên nghiệp</td>\n      <td>0</td>\n      <td>0</td>\n      <td>0.000000e+00</td>\n      <td>3</td>\n      <td>0</td>\n      <td>0.000000</td>\n      <td>0.000000</td>\n    </tr>\n    <tr>\n      <th>31</th>\n      <td>Những sản phẩm nông nghiệp</td>\n      <td>1</td>\n      <td>0</td>\n      <td>1.380000e+03</td>\n      <td>1</td>\n      <td>1</td>\n      <td>1.000000</td>\n      <td>0.000000</td>\n    </tr>\n    <tr>\n      <th>32</th>\n      <td>Phương tiện truyền thông</td>\n      <td>1</td>\n      <td>1</td>\n      <td>1.327600e+04</td>\n      <td>10</td>\n      <td>0</td>\n      <td>0.100000</td>\n      <td>0.100000</td>\n    </tr>\n    <tr>\n      <th>33</th>\n      <td>Phần mềm</td>\n      <td>1</td>\n      <td>2</td>\n      <td>9.914659e+05</td>\n      <td>7</td>\n      <td>-1</td>\n      <td>0.142857</td>\n      <td>0.285714</td>\n    </tr>\n    <tr>\n      <th>34</th>\n      <td>Quản lý và Phát triển bất động sản</td>\n      <td>14</td>\n      <td>17</td>\n      <td>1.135014e+06</td>\n      <td>91</td>\n      <td>-3</td>\n      <td>0.153846</td>\n      <td>0.186813</td>\n    </tr>\n    <tr>\n      <th>35</th>\n      <td>Sản phẩm cá nhân</td>\n      <td>0</td>\n      <td>0</td>\n      <td>0.000000e+00</td>\n      <td>2</td>\n      <td>0</td>\n      <td>0.000000</td>\n      <td>0.000000</td>\n    </tr>\n    <tr>\n      <th>36</th>\n      <td>Sản phẩm thực phẩm</td>\n      <td>12</td>\n      <td>12</td>\n      <td>-5.278391e+06</td>\n      <td>63</td>\n      <td>0</td>\n      <td>0.190476</td>\n      <td>0.190476</td>\n    </tr>\n    <tr>\n      <th>37</th>\n      <td>Sản xuất sản phẩm nhựa và cao su</td>\n      <td>0</td>\n      <td>1</td>\n      <td>-9.840000e+02</td>\n      <td>3</td>\n      <td>-1</td>\n      <td>0.000000</td>\n      <td>0.333333</td>\n    </tr>\n    <tr>\n      <th>38</th>\n      <td>Than và hoạt động liên quan</td>\n      <td>0</td>\n      <td>0</td>\n      <td>0.000000e+00</td>\n      <td>11</td>\n      <td>0</td>\n      <td>0.000000</td>\n      <td>0.000000</td>\n    </tr>\n    <tr>\n      <th>39</th>\n      <td>Thiết bị và dịch vụ năng lượng</td>\n      <td>2</td>\n      <td>0</td>\n      <td>8.223415e+05</td>\n      <td>4</td>\n      <td>2</td>\n      <td>0.500000</td>\n      <td>0.000000</td>\n    </tr>\n    <tr>\n      <th>40</th>\n      <td>Thiết bị và nguồn cung cấp chăm sóc sức khỏe</td>\n      <td>0</td>\n      <td>0</td>\n      <td>0.000000e+00</td>\n      <td>1</td>\n      <td>0</td>\n      <td>0.000000</td>\n      <td>0.000000</td>\n    </tr>\n    <tr>\n      <th>41</th>\n      <td>Thiết bị điện</td>\n      <td>2</td>\n      <td>0</td>\n      <td>8.458700e+03</td>\n      <td>13</td>\n      <td>2</td>\n      <td>0.153846</td>\n      <td>0.000000</td>\n    </tr>\n    <tr>\n      <th>42</th>\n      <td>Thuốc lá</td>\n      <td>1</td>\n      <td>0</td>\n      <td>7.300000e+01</td>\n      <td>2</td>\n      <td>1</td>\n      <td>0.500000</td>\n      <td>0.000000</td>\n    </tr>\n    <tr>\n      <th>43</th>\n      <td>Tiện ích khác</td>\n      <td>0</td>\n      <td>0</td>\n      <td>0.000000e+00</td>\n      <td>4</td>\n      <td>0</td>\n      <td>0.000000</td>\n      <td>0.000000</td>\n    </tr>\n    <tr>\n      <th>44</th>\n      <td>Tiện ích khí đốt</td>\n      <td>1</td>\n      <td>1</td>\n      <td>7.255382e+05</td>\n      <td>9</td>\n      <td>0</td>\n      <td>0.111111</td>\n      <td>0.111111</td>\n    </tr>\n    <tr>\n      <th>45</th>\n      <td>Tiện ích nước</td>\n      <td>1</td>\n      <td>3</td>\n      <td>-2.939230e+05</td>\n      <td>24</td>\n      <td>-2</td>\n      <td>0.041667</td>\n      <td>0.125000</td>\n    </tr>\n    <tr>\n      <th>46</th>\n      <td>Tiện ích điện</td>\n      <td>5</td>\n      <td>5</td>\n      <td>-5.071165e+05</td>\n      <td>35</td>\n      <td>0</td>\n      <td>0.142857</td>\n      <td>0.142857</td>\n    </tr>\n    <tr>\n      <th>47</th>\n      <td>Tập đoàn công nghiệp</td>\n      <td>0</td>\n      <td>4</td>\n      <td>-7.090096e+06</td>\n      <td>5</td>\n      <td>-4</td>\n      <td>0.000000</td>\n      <td>0.800000</td>\n    </tr>\n    <tr>\n      <th>48</th>\n      <td>Vật liệu xây dựng</td>\n      <td>4</td>\n      <td>6</td>\n      <td>-3.363554e+05</td>\n      <td>54</td>\n      <td>-2</td>\n      <td>0.074074</td>\n      <td>0.111111</td>\n    </tr>\n    <tr>\n      <th>49</th>\n      <td>Ô tô</td>\n      <td>0</td>\n      <td>0</td>\n      <td>0.000000e+00</td>\n      <td>1</td>\n      <td>0</td>\n      <td>0.000000</td>\n      <td>0.000000</td>\n    </tr>\n    <tr>\n      <th>50</th>\n      <td>Đường biển</td>\n      <td>3</td>\n      <td>4</td>\n      <td>3.360880e+04</td>\n      <td>18</td>\n      <td>-1</td>\n      <td>0.166667</td>\n      <td>0.222222</td>\n    </tr>\n    <tr>\n      <th>51</th>\n      <td>Đường bộ và đường sắt</td>\n      <td>1</td>\n      <td>0</td>\n      <td>6.258000e+04</td>\n      <td>13</td>\n      <td>1</td>\n      <td>0.076923</td>\n      <td>0.000000</td>\n    </tr>\n    <tr>\n      <th>52</th>\n      <td>Đồ uống</td>\n      <td>1</td>\n      <td>2</td>\n      <td>-1.965117e+05</td>\n      <td>18</td>\n      <td>-1</td>\n      <td>0.055556</td>\n      <td>0.111111</td>\n    </tr>\n  </tbody>\n</table>\n</div>"
     },
     "execution_count": 199,
     "metadata": {},
     "output_type": "execute_result"
    }
   ],
   "source": [
    "sector"
   ],
   "metadata": {
    "collapsed": false,
    "ExecuteTime": {
     "end_time": "2023-12-13T07:45:28.034197Z",
     "start_time": "2023-12-13T07:45:27.955841Z"
    }
   },
   "id": "b4392ead228ec9c3"
  },
  {
   "cell_type": "code",
   "execution_count": 163,
   "outputs": [
    {
     "data": {
      "text/plain": "    symbol                           sector  floor  buyForeignQtty  \\\n4      ABI  Bảo hiểm và hoạt động liên quan  UPCOM           150.0   \n8      AIC  Bảo hiểm và hoạt động liên quan  UPCOM             0.0   \n32     BHI  Bảo hiểm và hoạt động liên quan  UPCOM             0.0   \n36     BLI  Bảo hiểm và hoạt động liên quan  UPCOM            40.0   \n347    PTI  Bảo hiểm và hoạt động liên quan    HNX          4670.0   \n353    PVI  Bảo hiểm và hoạt động liên quan    HNX            50.0   \n529    VNR  Bảo hiểm và hoạt động liên quan    HNX             0.0   \n\n     sellForeignQtty  buyForeignQttyVal  sellForeignQttyVal  liquidity  \\\n4                7.2             3900.0               187.2    0.49984   \n8                0.0                0.0                 0.0    0.13793   \n32               0.0                0.0                 0.0    0.02646   \n36               0.0              408.0                 0.0    0.12268   \n347           4670.0                0.0                 0.0    0.01498   \n353              0.0             2260.0                 0.0    0.18045   \n529              0.0                0.0                 0.0    0.02773   \n\n     net_buy  net_sell  indexed_timestamp_ net_value  \n4     3712.8       0.0 2023-12-13 07:15:00      None  \n8        0.0       0.0 2023-12-13 07:15:00      None  \n32       0.0       0.0 2023-12-13 07:15:00      None  \n36     408.0       0.0 2023-12-13 07:15:00      None  \n347      0.0       0.0 2023-12-13 07:15:00      None  \n353   2260.0       0.0 2023-12-13 07:15:00      None  \n529      0.0       0.0 2023-12-13 07:15:00      None  ",
      "text/html": "<div>\n<style scoped>\n    .dataframe tbody tr th:only-of-type {\n        vertical-align: middle;\n    }\n\n    .dataframe tbody tr th {\n        vertical-align: top;\n    }\n\n    .dataframe thead th {\n        text-align: right;\n    }\n</style>\n<table border=\"1\" class=\"dataframe\">\n  <thead>\n    <tr style=\"text-align: right;\">\n      <th></th>\n      <th>symbol</th>\n      <th>sector</th>\n      <th>floor</th>\n      <th>buyForeignQtty</th>\n      <th>sellForeignQtty</th>\n      <th>buyForeignQttyVal</th>\n      <th>sellForeignQttyVal</th>\n      <th>liquidity</th>\n      <th>net_buy</th>\n      <th>net_sell</th>\n      <th>indexed_timestamp_</th>\n      <th>net_value</th>\n    </tr>\n  </thead>\n  <tbody>\n    <tr>\n      <th>4</th>\n      <td>ABI</td>\n      <td>Bảo hiểm và hoạt động liên quan</td>\n      <td>UPCOM</td>\n      <td>150.0</td>\n      <td>7.2</td>\n      <td>3900.0</td>\n      <td>187.2</td>\n      <td>0.49984</td>\n      <td>3712.8</td>\n      <td>0.0</td>\n      <td>2023-12-13 07:15:00</td>\n      <td>None</td>\n    </tr>\n    <tr>\n      <th>8</th>\n      <td>AIC</td>\n      <td>Bảo hiểm và hoạt động liên quan</td>\n      <td>UPCOM</td>\n      <td>0.0</td>\n      <td>0.0</td>\n      <td>0.0</td>\n      <td>0.0</td>\n      <td>0.13793</td>\n      <td>0.0</td>\n      <td>0.0</td>\n      <td>2023-12-13 07:15:00</td>\n      <td>None</td>\n    </tr>\n    <tr>\n      <th>32</th>\n      <td>BHI</td>\n      <td>Bảo hiểm và hoạt động liên quan</td>\n      <td>UPCOM</td>\n      <td>0.0</td>\n      <td>0.0</td>\n      <td>0.0</td>\n      <td>0.0</td>\n      <td>0.02646</td>\n      <td>0.0</td>\n      <td>0.0</td>\n      <td>2023-12-13 07:15:00</td>\n      <td>None</td>\n    </tr>\n    <tr>\n      <th>36</th>\n      <td>BLI</td>\n      <td>Bảo hiểm và hoạt động liên quan</td>\n      <td>UPCOM</td>\n      <td>40.0</td>\n      <td>0.0</td>\n      <td>408.0</td>\n      <td>0.0</td>\n      <td>0.12268</td>\n      <td>408.0</td>\n      <td>0.0</td>\n      <td>2023-12-13 07:15:00</td>\n      <td>None</td>\n    </tr>\n    <tr>\n      <th>347</th>\n      <td>PTI</td>\n      <td>Bảo hiểm và hoạt động liên quan</td>\n      <td>HNX</td>\n      <td>4670.0</td>\n      <td>4670.0</td>\n      <td>0.0</td>\n      <td>0.0</td>\n      <td>0.01498</td>\n      <td>0.0</td>\n      <td>0.0</td>\n      <td>2023-12-13 07:15:00</td>\n      <td>None</td>\n    </tr>\n    <tr>\n      <th>353</th>\n      <td>PVI</td>\n      <td>Bảo hiểm và hoạt động liên quan</td>\n      <td>HNX</td>\n      <td>50.0</td>\n      <td>0.0</td>\n      <td>2260.0</td>\n      <td>0.0</td>\n      <td>0.18045</td>\n      <td>2260.0</td>\n      <td>0.0</td>\n      <td>2023-12-13 07:15:00</td>\n      <td>None</td>\n    </tr>\n    <tr>\n      <th>529</th>\n      <td>VNR</td>\n      <td>Bảo hiểm và hoạt động liên quan</td>\n      <td>HNX</td>\n      <td>0.0</td>\n      <td>0.0</td>\n      <td>0.0</td>\n      <td>0.0</td>\n      <td>0.02773</td>\n      <td>0.0</td>\n      <td>0.0</td>\n      <td>2023-12-13 07:15:00</td>\n      <td>None</td>\n    </tr>\n  </tbody>\n</table>\n</div>"
     },
     "execution_count": 163,
     "metadata": {},
     "output_type": "execute_result"
    }
   ],
   "source": [
    "symbol[symbol['sector'] == 'Bảo hiểm và hoạt động liên quan']"
   ],
   "metadata": {
    "collapsed": false,
    "ExecuteTime": {
     "end_time": "2023-12-13T07:15:40.104607Z",
     "start_time": "2023-12-13T07:15:40.078678Z"
    }
   },
   "id": "72bc073a40a66ade"
  },
  {
   "cell_type": "code",
   "execution_count": null,
   "outputs": [],
   "source": [
    "import pandas as pd\n",
    "sector_metric = load_sector_metric(start=datetime.now() - timedelta(days=15), end=datetime.now())\n",
    "top_10_sector = sector_metric.groupby(by=['ten_nganh']).agg({'total_thanh_khoan': 'sum'}).sort_values(by='total_thanh_khoan', ascending=False).head(10)\n",
    "sector_metric = sector_metric[ sector_metric['ten_nganh'].isin(top_10_sector.index)]\n",
    "sector_metric_total_cap = sector_metric.groupby(by=['ngay']).agg({'total_thanh_khoan': 'sum'})\n",
    "sector_metric = pd.merge(sector_metric, sector_metric_total_cap, on=['ngay','ngay'], suffixes=['', '_all'])\n",
    "sector_metric['sector_liquidity_ratio'] = sector_metric['total_thanh_khoan'] / sector_metric['total_thanh_khoan_all']\n",
    "sector_metric"
   ],
   "metadata": {
    "collapsed": false
   },
   "id": "6d2f946fd0d9a838"
  },
  {
   "cell_type": "code",
   "execution_count": null,
   "outputs": [],
   "source": [
    "def color_decider(value, threshold=None, threshold_color=None):\n",
    "    if threshold is None:\n",
    "        threshold = [0]\n",
    "    if threshold_color is None:\n",
    "        threshold_color = ['red', 'green']\n",
    "    \n",
    "    color = threshold_color[0]\n",
    "    for i in range(len(threshold)):\n",
    "        if value >= threshold[i]:\n",
    "            color = threshold_color[min(len(threshold_color) - 1, i+1)]\n",
    "    return color\n",
    "\n",
    "color_decider(value=5, threshold=[2,4], threshold_color=['green', 'red'])"
   ],
   "metadata": {
    "collapsed": false
   },
   "id": "4f90f7103db86d5f"
  },
  {
   "cell_type": "code",
   "execution_count": null,
   "outputs": [],
   "source": [
    "def load_market_price_metric_range(start, end):\n",
    "    start_date_string = datetime.strftime(start_date, '%Y-%m-%d')\n",
    "    end_date_string = datetime.strftime(end_date, '%Y-%m-%d')\n",
    "    sql = f\"\"\"\n",
    "            select\n",
    "                indexed_timestamp_\n",
    "                , avg(pha_day_1m) as pha_day_1m\n",
    "                , avg(vuot_dinh_1m) as vuot_dinh_1m\n",
    "            from dsai.dnse_thong_ke_cuoi_ngay_1d0h0m_1\n",
    "            where \n",
    "                indexed_timestamp_::date >= '{start_date_string}'\n",
    "                and indexed_timestamp_::date <= '{end_date_string}'\n",
    "            group by indexed_timestamp_\n",
    "            order by  indexed_timestamp_ desc\n",
    "        \"\"\"\n",
    "    df = pd.read_sql_query(\n",
    "        sql=sql,\n",
    "        con=redshift_engine\n",
    "    )\n",
    "    return df\n",
    "\n",
    "\n",
    "load_market_price_metric_range"
   ],
   "metadata": {
    "collapsed": false
   },
   "id": "2cb6df15760100f"
  },
  {
   "cell_type": "code",
   "execution_count": null,
   "outputs": [],
   "source": [
    "all_liquidity_same_period = get_last_record_of_day(schema='public', table='liquidity_all_resolution', engine=dsai_engine)\n",
    "all_liquidity_same_period"
   ],
   "metadata": {
    "collapsed": false
   },
   "id": "a769867cf59c551d"
  },
  {
   "cell_type": "code",
   "execution_count": null,
   "outputs": [],
   "source": [
    "get_latest_record(schema='public', table='liquidity_all_resolution', engine=engine).query(\n",
    "    '(resolution == \"market\" or resolution == \"sector\")'\n",
    ").sort_values(by='liquidity', ascending=False)[['name']].values.flatten().tolist()[:4]"
   ],
   "metadata": {
    "collapsed": false
   },
   "id": "51bd3f268220dfe3"
  },
  {
   "cell_type": "code",
   "execution_count": null,
   "outputs": [],
   "source": [
    "market_and_top_n_liquidity = all_liquidity_same_period.query(\n",
    "    '(resolution == \"market\" or resolution == \"sector\")'\n",
    ").head(3 + 1)\n",
    "\n",
    "market_and_top_n_liquidity"
   ],
   "metadata": {
    "collapsed": false
   },
   "id": "c437384b06912f73"
  },
  {
   "cell_type": "code",
   "execution_count": null,
   "outputs": [],
   "source": [
    "latest_price_metric.query('name == \"market\"')[['price_increased_sum', 'price_decreased_sum']].values.flatten().tolist()"
   ],
   "metadata": {
    "collapsed": false
   },
   "id": "1f3aa64d6420fc33"
  },
  {
   "cell_type": "code",
   "execution_count": null,
   "outputs": [],
   "source": [
    "from configs.config import DSAI_TIMESCALEDB_PRD\n",
    "from sqlalchemy import create_engine\n",
    "from database.utils import get_record_latest\n",
    "engine = create_engine(DSAI_TIMESCALEDB_PRD)\n",
    "record = get_record_latest(\n",
    "    schema='public',\n",
    "    table='liquidity_all_resolution',\n",
    "    engine=engine\n",
    ")"
   ],
   "metadata": {
    "collapsed": false
   },
   "id": "ad40411d3d6e583e"
  },
  {
   "cell_type": "code",
   "execution_count": null,
   "outputs": [],
   "source": [
    "record"
   ],
   "metadata": {
    "collapsed": false
   },
   "id": "399f8bcaf7f3a85b"
  }
 ],
 "metadata": {
  "kernelspec": {
   "display_name": "Python 3",
   "language": "python",
   "name": "python3"
  },
  "language_info": {
   "codemirror_mode": {
    "name": "ipython",
    "version": 2
   },
   "file_extension": ".py",
   "mimetype": "text/x-python",
   "name": "python",
   "nbconvert_exporter": "python",
   "pygments_lexer": "ipython2",
   "version": "2.7.6"
  }
 },
 "nbformat": 4,
 "nbformat_minor": 5
}
